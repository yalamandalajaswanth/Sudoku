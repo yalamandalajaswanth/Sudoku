{
 "cells": [
  {
   "cell_type": "markdown",
   "id": "b1820ac1",
   "metadata": {},
   "source": [
    "# sudoku solver"
   ]
  },
  {
   "cell_type": "code",
   "execution_count": 5,
   "id": "e4cd13f5",
   "metadata": {},
   "outputs": [],
   "source": [
    "from collections import defaultdict\n",
    "import numpy as np"
   ]
  },
  {
   "cell_type": "code",
   "execution_count": 22,
   "id": "6f9a38e8",
   "metadata": {},
   "outputs": [],
   "source": [
    "Grid = [[2,0,3,0,9,4,0,6,0],\n",
    "       [0,0,0,0,1,0,0,9,2],\n",
    "       [0,6,0,8,3,0,4,0,0],\n",
    "       [9,8,0,0,0,0,7,0,3],\n",
    "       [3,0,5,0,0,8,0,0,6],\n",
    "       [7,0,0,3,0,6,2,8,9],\n",
    "       [0,1,2,7,0,0,9,0,0],\n",
    "       [0,0,0,0,4,0,5,1,8],\n",
    "       [0,0,0,0,0,0,0,0,0],\n",
    "       ]\n",
    "rows=defaultdict(set)\n",
    "cols=defaultdict(set)\n",
    "squares=defaultdict(set)\n",
    "for i in range(0,9):\n",
    "    for j in range(0,9):\n",
    "        if Grid[i][j]==0:\n",
    "            continue\n",
    "        if Grid[i][j] not in rows[i]:\n",
    "            rows[i].add(Grid[i][j])\n",
    "        if Grid[i][j] not in cols[j]:\n",
    "            cols[j].add(Grid[i][j])\n",
    "        x=i//3\n",
    "        y=j//3\n",
    "        if Grid[i][j] not in squares[(x,y)]:\n",
    "            squares[(x,y)].add(Grid[i][j])"
   ]
  },
  {
   "cell_type": "code",
   "execution_count": 23,
   "id": "2502ce46",
   "metadata": {},
   "outputs": [],
   "source": [
    "def ifpossible(x,y,n):\n",
    "    global Grid    \n",
    "    global rows\n",
    "    global cols\n",
    "    global squares\n",
    "    if (n in rows[x]) or (n in cols[y]) or (n in squares[(x//3,y//3)]):\n",
    "        return False\n",
    "    return True"
   ]
  },
  {
   "cell_type": "code",
   "execution_count": 24,
   "id": "da66a0bb",
   "metadata": {},
   "outputs": [],
   "source": [
    "def solve():\n",
    "    global Grid\n",
    "    global rows\n",
    "    global cols\n",
    "    global squares\n",
    "    for i in range(0,9):\n",
    "        for j in range(0,9):\n",
    "            if Grid[i][j]==0:\n",
    "                for n in range(1,10):\n",
    "                    if ifpossible(i,j,n):\n",
    "                        Grid[i][j]=n\n",
    "                        rows[i].add(n)\n",
    "                        cols[j].add(n)\n",
    "                        squares[(i//3,j//3)].add(n)\n",
    "                        solve()\n",
    "                        Grid[i][j]=0\n",
    "                        rows[i].remove(n)\n",
    "                        cols[j].remove(n)\n",
    "                        squares[(i//3,j//3)].remove(n)\n",
    "                return\n",
    "    print(np.matrix(Grid))\n",
    "    return"
   ]
  },
  {
   "cell_type": "code",
   "execution_count": 25,
   "id": "3b15e6d6",
   "metadata": {},
   "outputs": [
    {
     "name": "stdout",
     "output_type": "stream",
     "text": [
      "[[2 7 3 5 9 4 8 6 1]\n",
      " [4 5 8 6 1 7 3 9 2]\n",
      " [1 6 9 8 3 2 4 7 5]\n",
      " [9 8 6 4 2 1 7 5 3]\n",
      " [3 2 5 9 7 8 1 4 6]\n",
      " [7 4 1 3 5 6 2 8 9]\n",
      " [8 1 2 7 6 5 9 3 4]\n",
      " [6 3 7 2 4 9 5 1 8]\n",
      " [5 9 4 1 8 3 6 2 7]]\n",
      "[[2 7 3 5 9 4 8 6 1]\n",
      " [4 5 8 6 1 7 3 9 2]\n",
      " [1 6 9 8 3 2 4 7 5]\n",
      " [9 8 6 4 2 1 7 5 3]\n",
      " [3 2 5 9 7 8 1 4 6]\n",
      " [7 4 1 3 5 6 2 8 9]\n",
      " [8 1 2 7 6 5 9 3 4]\n",
      " [6 9 7 2 4 3 5 1 8]\n",
      " [5 3 4 1 8 9 6 2 7]]\n"
     ]
    }
   ],
   "source": [
    "solve()"
   ]
  },
  {
   "cell_type": "code",
   "execution_count": null,
   "id": "50cd78ec",
   "metadata": {},
   "outputs": [],
   "source": []
  }
 ],
 "metadata": {
  "kernelspec": {
   "display_name": "Python 3 (ipykernel)",
   "language": "python",
   "name": "python3"
  },
  "language_info": {
   "codemirror_mode": {
    "name": "ipython",
    "version": 3
   },
   "file_extension": ".py",
   "mimetype": "text/x-python",
   "name": "python",
   "nbconvert_exporter": "python",
   "pygments_lexer": "ipython3",
   "version": "3.11.4"
  }
 },
 "nbformat": 4,
 "nbformat_minor": 5
}
